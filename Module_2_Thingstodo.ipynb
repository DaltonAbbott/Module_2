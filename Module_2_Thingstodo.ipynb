{
 "cells": [
  {
   "cell_type": "code",
   "execution_count": 6,
   "id": "2f5ac1c3-178b-4798-8e4e-bd8676c5814f",
   "metadata": {},
   "outputs": [
    {
     "name": "stdout",
     "output_type": "stream",
     "text": [
      "too low\n"
     ]
    }
   ],
   "source": [
    "secret = 6\n",
    "guess = 2\n",
    "if guess < secret:\n",
    "    print(\"too low\")\n",
    "elif guess == secret:\n",
    "    print(\"just right\")\n",
    "else:\n",
    "    print(\"too high\")"
   ]
  },
  {
   "cell_type": "code",
   "execution_count": null,
   "id": "55784029-72d2-49fa-8a21-c1aeac14f529",
   "metadata": {},
   "outputs": [],
   "source": [
    "small = True\n",
    "green = False\n",
    "if green:\n",
    "    if small:\n",
    "        print(\"That would be a pea\")\n",
    "    else:\n",
    "        print(\"That would be a watermellon\")\n",
    "else:\n",
    "    if small:\n",
    "        print(\"That would be a cherry\")\n",
    "    else:\n",
    "        print(\"That would be a pumpkin\")\n"
   ]
  },
  {
   "cell_type": "code",
   "execution_count": 13,
   "id": "9055e9df-f1b8-4ae7-b96f-7c8956a78784",
   "metadata": {},
   "outputs": [
    {
     "name": "stdout",
     "output_type": "stream",
     "text": [
      "0\n",
      "1\n",
      "2\n",
      "3\n"
     ]
    }
   ],
   "source": [
    "for x in range(0,4):\n",
    "    print(x)"
   ]
  },
  {
   "cell_type": "code",
   "execution_count": null,
   "id": "34fd9494-b80a-4c3c-98dc-4ade7d44c38d",
   "metadata": {},
   "outputs": [],
   "source": [
    "guess_me = 7\n",
    "number = 3\n",
    "while True:\n",
    "    if number < guess_me:\n",
    "        print(\"too low\")\n",
    "    elif number == guess_me:\n",
    "        print(\"found it\")\n",
    "        break\n",
    "    else:\n",
    "        print(\"oops\")\n",
    "        break\n",
    "    number += 1"
   ]
  },
  {
   "cell_type": "code",
   "execution_count": null,
   "id": "095390a2-ab28-42b2-b6aa-4b349a62c79f",
   "metadata": {},
   "outputs": [],
   "source": [
    "guess_me = 5\n",
    "for number in range(10):\n",
    "    if number < guess_me:\n",
    "        print(\"too low\")\n",
    "    elif number == guess_me:\n",
    "        print(\"found it\") \n",
    "        break\n",
    "    else: \n",
    "        print(\"Oops\")\n",
    "        break\n",
    "    "
   ]
  },
  {
   "cell_type": "code",
   "execution_count": null,
   "id": "ab8e5f75-dff2-4ebd-8e0d-f1881354644f",
   "metadata": {},
   "outputs": [],
   "source": [
    "#The cells used to work, until i made the while loop\n",
    "#wrong and then it looped \"oops\" endlessly and now \n",
    "#nothing runs, but i checked in vscode and it all works"
   ]
  }
 ],
 "metadata": {
  "kernelspec": {
   "display_name": "Python [conda env:base] *",
   "language": "python",
   "name": "conda-base-py"
  },
  "language_info": {
   "codemirror_mode": {
    "name": "ipython",
    "version": 3
   },
   "file_extension": ".py",
   "mimetype": "text/x-python",
   "name": "python",
   "nbconvert_exporter": "python",
   "pygments_lexer": "ipython3",
   "version": "3.13.5"
  }
 },
 "nbformat": 4,
 "nbformat_minor": 5
}
